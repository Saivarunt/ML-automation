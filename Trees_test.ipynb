{
  "nbformat": 4,
  "nbformat_minor": 0,
  "metadata": {
    "colab": {
      "name": "Trees test.ipynb",
      "provenance": [],
      "collapsed_sections": []
    },
    "kernelspec": {
      "name": "python3",
      "display_name": "Python 3"
    },
    "language_info": {
      "name": "python"
    }
  },
  "cells": [
    {
      "cell_type": "code",
      "source": [
        "import pandas as pd\n",
        "import numpy as np\n",
        "from sklearn.model_selection import train_test_split\n",
        "from sklearn.tree import DecisionTreeClassifier\n",
        "from sklearn.ensemble import RandomForestClassifier\n",
        "from sklearn.metrics import classification_report,confusion_matrix"
      ],
      "metadata": {
        "id": "KN5k9cDnHKI3"
      },
      "execution_count": null,
      "outputs": []
    },
    {
      "cell_type": "code",
      "execution_count": null,
      "metadata": {
        "id": "xhyn4mYJHEoi"
      },
      "outputs": [],
      "source": [
        "def tree(f,tr):\n",
        "  df=pd.read_csv(f)\n",
        "  dfsize=df.shape[0]\n",
        "  rlist=[]\n",
        "  mlist=[]\n",
        "  rclist=[]\n",
        "  mclist=[]\n",
        "  x=[]\n",
        "  y=[]\n",
        "  rval=False\n",
        "  mval=False\n",
        "  c=dfsize/10\n",
        "  #seperating values\n",
        "  for i in df.columns:\n",
        "      if df[i].dtype==int or df[i].dtype==np.int64 or df[i].dtype==np.int32 or df[i].dtype==float or df[i].dtype==np.double:\n",
        "          rlist.append(i)\n",
        "      else:\n",
        "          mlist.append(i)\n",
        "\n",
        "  #rlist\n",
        "  for j in rlist:\n",
        "      rulist=list(df[j].unique())\n",
        "      rtlist=[]\n",
        "      for r in rulist:\n",
        "          count=0\n",
        "          for k in df[j].values:\n",
        "              if r==k:\n",
        "                  count=count+1\n",
        "          rtlist.append(count)\n",
        "      rclist.append(rtlist)\n",
        "\n",
        "  #mlist\n",
        "  for a in mlist:\n",
        "      mulist=list(df[a].unique())\n",
        "      mtlist=[]\n",
        "      for m in mulist:\n",
        "          count1=0\n",
        "          for b in df[a].values:\n",
        "              if m==b:\n",
        "                  count1=count1+1\n",
        "          mtlist.append(count1)\n",
        "      mclist.append(mtlist)\n",
        "\n",
        "\n",
        "  for g in range(len(mclist)):\n",
        "      cnt=0\n",
        "      for nm in mclist[g]:\n",
        "          if nm>=c:\n",
        "              cnt+=1\n",
        "      if cnt>1:    \n",
        "          ind1=g\n",
        "          mval=True\n",
        "          break\n",
        "\n",
        "  for e in range(len(rclist)):\n",
        "      cnt=0\n",
        "      for num in rclist[e]:\n",
        "          if num>=c:\n",
        "              cnt+=1\n",
        "      if cnt>1:    \n",
        "          ind=e\n",
        "          rval=True\n",
        "          break\n",
        "\n",
        "  if mval==True:\n",
        "      y=df[mlist[ind1]]\n",
        "      x=df.drop(mlist[ind1],axis=1)\n",
        "  elif rval==True and mval==False:\n",
        "      y=df[rlist[ind]]\n",
        "      x=df.drop(rlist[ind],axis=1)\n",
        "  else:\n",
        "    return '0','0'\n",
        "\n",
        "  X_train, X_test, y_train, y_test = train_test_split(x, y, test_size=0.40)\n",
        "  if tr==True:\n",
        "    dtree = DecisionTreeClassifier()\n",
        "    dtree.fit(X_train,y_train)\n",
        "\n",
        "    predictions = dtree.predict(X_test)\n",
        "    res=classification_report(y_test,predictions)\n",
        "    conf_mat=confusion_matrix(y_test,predictions)\n",
        "  else:\n",
        "    rfc = RandomForestClassifier(n_estimators=100)\n",
        "    rfc.fit(X_train, y_train)\n",
        "    rfc_pred = rfc.predict(X_test)\n",
        "    res=classification_report(y_test,rfc_pred)\n",
        "    conf_mat=confusion_matrix(y_test,rfc_pred)\n",
        "  return str(res), str(conf_mat)"
      ]
    },
    {
      "cell_type": "code",
      "source": [
        "!pip install -q gradio"
      ],
      "metadata": {
        "id": "c9XTzBWJLV3k",
        "colab": {
          "base_uri": "https://localhost:8080/"
        },
        "outputId": "a66f5494-e17c-4d06-a87c-cea29a98f833"
      },
      "execution_count": null,
      "outputs": [
        {
          "output_type": "stream",
          "name": "stdout",
          "text": [
            "\u001b[K     |████████████████████████████████| 2.9 MB 8.9 MB/s \n",
            "\u001b[K     |████████████████████████████████| 84 kB 2.7 MB/s \n",
            "\u001b[K     |████████████████████████████████| 211 kB 30.8 MB/s \n",
            "\u001b[K     |████████████████████████████████| 53 kB 1.6 MB/s \n",
            "\u001b[K     |████████████████████████████████| 1.1 MB 25.1 MB/s \n",
            "\u001b[K     |████████████████████████████████| 253 kB 25.5 MB/s \n",
            "\u001b[K     |████████████████████████████████| 2.0 MB 28.8 MB/s \n",
            "\u001b[K     |████████████████████████████████| 54 kB 2.3 MB/s \n",
            "\u001b[K     |████████████████████████████████| 144 kB 37.3 MB/s \n",
            "\u001b[K     |████████████████████████████████| 94 kB 1.8 MB/s \n",
            "\u001b[K     |████████████████████████████████| 271 kB 10.6 MB/s \n",
            "\u001b[K     |████████████████████████████████| 58 kB 2.7 MB/s \n",
            "\u001b[K     |████████████████████████████████| 10.9 MB 32.9 MB/s \n",
            "\u001b[K     |████████████████████████████████| 79 kB 6.4 MB/s \n",
            "\u001b[K     |████████████████████████████████| 43 kB 1.6 MB/s \n",
            "\u001b[K     |████████████████████████████████| 3.6 MB 11.8 MB/s \n",
            "\u001b[K     |████████████████████████████████| 856 kB 43.1 MB/s \n",
            "\u001b[K     |████████████████████████████████| 61 kB 259 kB/s \n",
            "\u001b[K     |████████████████████████████████| 58 kB 3.1 MB/s \n",
            "\u001b[?25h  Building wheel for ffmpy (setup.py) ... \u001b[?25l\u001b[?25hdone\n",
            "  Building wheel for python-multipart (setup.py) ... \u001b[?25l\u001b[?25hdone\n"
          ]
        }
      ]
    },
    {
      "cell_type": "code",
      "source": [
        "import gradio as gr\n",
        "def dtree(file,ck):\n",
        "  if ck==\"Decision Tree\":\n",
        "    res,conf_mat=tree(file.name,True)\n",
        "  else:\n",
        "    res,conf_mat=tree(file.name,False)\n",
        "  return \"RMSE:\"+res+\"\\nR-SQUARED:\"+conf_mat\n",
        "inp=gr.inputs.CheckboxGroup([\"Decision tree\",\"Random forest\"])\n",
        "inf=gr.Interface(dtree,inputs=[\"file\",inp],outputs=\"text\",capture_session=True)\n",
        "inf.launch(share=True)"
      ],
      "metadata": {
        "colab": {
          "base_uri": "https://localhost:8080/"
        },
        "id": "hmtpEDieLeiw",
        "outputId": "0ceb1c5a-4263-4793-f1ac-1a8ced4fde76"
      },
      "execution_count": null,
      "outputs": [
        {
          "output_type": "stream",
          "name": "stderr",
          "text": [
            "/usr/local/lib/python3.7/dist-packages/gradio/interface.py:248: UserWarning: The `capture_session` parameter in the `Interface` is deprecated and may be removed in the future.\n",
            "  \"The `capture_session` parameter in the `Interface`\"\n"
          ]
        },
        {
          "output_type": "stream",
          "name": "stdout",
          "text": [
            "Colab notebook detected. To show errors in colab notebook, set `debug=True` in `launch()`\n",
            "Running on public URL: https://14659.gradio.app\n",
            "\n",
            "This share link expires in 72 hours. For free permanent hosting, check out Spaces (https://huggingface.co/spaces)\n"
          ]
        },
        {
          "output_type": "display_data",
          "data": {
            "text/plain": [
              "<IPython.lib.display.IFrame at 0x7f48cd027650>"
            ],
            "text/html": [
              "\n",
              "        <iframe\n",
              "            width=\"900\"\n",
              "            height=\"500\"\n",
              "            src=\"https://14659.gradio.app\"\n",
              "            frameborder=\"0\"\n",
              "            allowfullscreen\n",
              "        ></iframe>\n",
              "        "
            ]
          },
          "metadata": {}
        },
        {
          "output_type": "execute_result",
          "data": {
            "text/plain": [
              "(<fastapi.applications.FastAPI at 0x7f491d816290>,\n",
              " 'http://127.0.0.1:7860/',\n",
              " 'https://14659.gradio.app')"
            ]
          },
          "metadata": {},
          "execution_count": 4
        }
      ]
    }
  ]
}